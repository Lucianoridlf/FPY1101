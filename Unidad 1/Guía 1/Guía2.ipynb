{
 "cells": [
  {
   "cell_type": "code",
   "execution_count": null,
   "metadata": {},
   "outputs": [],
   "source": [
    "Guia 2\n",
    "\n",
    "Interpolacion, regresion y ajustes\n",
    "\n",
    "lista de arreglo ->>>>>> np.array ([])\n",
    "ajuste = np.polyfit(x,y, grado)\n",
    "np.poly1d(ajuste)\n",
    "\n",
    "nombre, apellido = (a, b)\n",
    "\n",
    "ejemplo: \n",
    "import numpy as np\n",
    "import matploblib.pyplot as plt\n",
    "\n",
    "x = np.array([k for k in range (1,9)])\n",
    "y = np.array([k**2 for k in range(1,9)])\n",
    "\n",
    "plt.plot(x,y,'o')\n",
    "\n",
    "ajuste = np.polyfit(x, y, 1)\n",
    "pol_2 = np.poly1d(ajuste)\n",
    "\n",
    "print(pol_2)\n",
    "\n",
    "dist = np.linspace(x.min(), x.max(), 100)\n",
    "plt.plot(x,y,'o', color = 'red')\n",
    "plt.grid(True)\n",
    "plt.plot(dist, pol(dist))\n",
    "plt.show()\n",
    "\n"
   ]
  },
  {
   "cell_type": "markdown",
   "metadata": {},
   "source": [
    "# Problema 1"
   ]
  },
  {
   "cell_type": "markdown",
   "metadata": {},
   "source": [
    "Un equipo de desarrollo está evaluando la eficiencia de un nuevo algoritmo implementado en *Python*. Han medido el tiempo de ejecución del algoritmo en función de la cantidad de elementos de entrada, obteniendo los resultados que se muestran en la siguiente tabla:\n",
    "\n",
    "<p><center>\n",
    "\n",
    "| Cantidad de elementos (unidades) | Tiempo de ejecución (ms) |\n",
    "|----------------------------------|--------------------------|\n",
    "|$$ 100 $$                         | $$2 $$                   |\n",
    "|$$ 200 $$                         | $$4 $$                   |\n",
    "|$$ 500 $$                         | $$10 $$                  |\n",
    "|$$ 1.000 $$                        | $$20 $$                  |\n",
    "|$$ 2.000 $$                        | $$40 $$                  |\n",
    "\n",
    "</center></p>\n",
    "\n",
    "1. Defina variable dependiente e independiente, indicando unidad de medida.\n",
    "2. Encuentra la función que relaciona el tamaño de la entrada con el tiempo de ejecución del algoritmo, para esto utiliza la función *polyfit* de *Numpy*.\n",
    "3. Calcula el tiempo de ejecución para una entrada de $1.500$ elementos.\n",
    "4. Utiliza la función *fsolve* de *Scipy* para determinar el tamaño de entrada que haría que el tiempo de ejecución sea de $50$ milisegundos.\n"
   ]
  },
  {
   "cell_type": "markdown",
   "metadata": {},
   "source": [
    "# 1. \n",
    "variable dependiente = tiempo de ejecucion (ms)\n",
    "variable independiente = cantidad de elementos (unidades)\n",
    "\n",
    "# 2.\n",
    "array_x = np.array([100, 200, 500, 1000, 2000])\n",
    "array_y = np.array([2, 4, 10, 20, 40])\n",
    "funcion = np.polyfit (array_x, array_y, 1)\n",
    "\n",
    "# 3.\n",
    "\n",
    "De acuerdo a lo graficado es a 1500 elementos el tiempo de ejecucion es 30 ms\n",
    "\n",
    "# 4.\n"
   ]
  },
  {
   "cell_type": "code",
   "execution_count": 14,
   "metadata": {},
   "outputs": [
    {
     "data": {
      "image/png": "[encoded data removed]",
      "text/plain": [
       "<Figure size 640x480 with 1 Axes>"
      ]
     },
     "metadata": {},
     "output_type": "display_data"
    }
   ],
   "source": [
    "import numpy as np\n",
    "import matplotlib.pyplot as plt \n",
    "from scipy.optimize import fsolve\n",
    "\n",
    "\n",
    "#2\n",
    "array_x = np.array([100, 200, 500, 1000, 2000])\n",
    "array_y = np.array([2, 4, 10, 20, 40])\n",
    "funcion = np.polyfit (array_x, array_y, 1)\n",
    "pol_1 = np.poly1d(funcion)\n",
    "\n",
    "graf = np.linspace(array_x.min(), array_x.max(), 100)\n",
    "plt.plot(array_x, array_y, 'o')\n",
    "plt.plot(graf, pol_1(graf))\n",
    "plt.grid(True)\n",
    "plt.show()\n",
    "\n",
    "4.\n"
   ]
  },
  {
   "cell_type": "code",
   "execution_count": null,
   "metadata": {},
   "outputs": [],
   "source": []
  }
 ],
 "metadata": {
  "kernelspec": {
   "display_name": "Python 3",
   "language": "python",
   "name": "python3"
  },
  "language_info": {
   "codemirror_mode": {
    "name": "ipython",
    "version": 3
   },
   "file_extension": ".py",
   "mimetype": "text/x-python",
   "name": "python",
   "nbconvert_exporter": "python",
   "pygments_lexer": "ipython3",
   "version": "3.12.4"
  }
 },
 "nbformat": 4,
 "nbformat_minor": 2
}
